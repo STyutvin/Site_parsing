{
 "cells": [
  {
   "cell_type": "markdown",
   "metadata": {},
   "source": [
    "## Парсинг web-страниц.<br>\n",
    "Осуществление парсинга сайта с помощью Selenium и BeautifulSoup."
   ]
  },
  {
   "cell_type": "markdown",
   "metadata": {},
   "source": [
    "Будем осуществлять парсинг сайта www.scrapethissite.com. В работу возьмем страницу с хоккейными командами. Для извлечения данных пусть будут столбцы с названием команд, годом и количеством побед."
   ]
  },
  {
   "cell_type": "code",
   "execution_count": 4,
   "metadata": {},
   "outputs": [],
   "source": [
    "from selenium import webdriver\n",
    "from selenium.webdriver.common.keys import Keys\n",
    "from selenium.webdriver.common.by import By\n",
    "from bs4 import BeautifulSoup\n",
    "import requests\n",
    "import pandas as pd"
   ]
  },
  {
   "cell_type": "markdown",
   "metadata": {},
   "source": [
    "Парсинг с помощью Selenium."
   ]
  },
  {
   "cell_type": "code",
   "execution_count": 3,
   "metadata": {},
   "outputs": [
    {
     "name": "stdout",
     "output_type": "stream",
     "text": [
      "[{'team': 'Boston Bruins', 'year': '1990', 'wins': '44'}, {'team': 'Buffalo Sabres', 'year': '1990', 'wins': '31'}, {'team': 'Calgary Flames', 'year': '1990', 'wins': '46'}, {'team': 'Chicago Blackhawks', 'year': '1990', 'wins': '49'}, {'team': 'Detroit Red Wings', 'year': '1990', 'wins': '34'}, {'team': 'Edmonton Oilers', 'year': '1990', 'wins': '37'}, {'team': 'Hartford Whalers', 'year': '1990', 'wins': '31'}, {'team': 'Los Angeles Kings', 'year': '1990', 'wins': '46'}, {'team': 'Minnesota North Stars', 'year': '1990', 'wins': '27'}, {'team': 'Montreal Canadiens', 'year': '1990', 'wins': '39'}, {'team': 'New Jersey Devils', 'year': '1990', 'wins': '32'}, {'team': 'New York Islanders', 'year': '1990', 'wins': '25'}, {'team': 'New York Rangers', 'year': '1990', 'wins': '36'}, {'team': 'Philadelphia Flyers', 'year': '1990', 'wins': '33'}, {'team': 'Pittsburgh Penguins', 'year': '1990', 'wins': '41'}, {'team': 'Quebec Nordiques', 'year': '1990', 'wins': '16'}, {'team': 'St. Louis Blues', 'year': '1990', 'wins': '47'}, {'team': 'Toronto Maple Leafs', 'year': '1990', 'wins': '23'}, {'team': 'Vancouver Canucks', 'year': '1990', 'wins': '28'}, {'team': 'Washington Capitals', 'year': '1990', 'wins': '37'}, {'team': 'Winnipeg Jets', 'year': '1990', 'wins': '26'}, {'team': 'Boston Bruins', 'year': '1991', 'wins': '36'}, {'team': 'Buffalo Sabres', 'year': '1991', 'wins': '31'}, {'team': 'Calgary Flames', 'year': '1991', 'wins': '31'}, {'team': 'Chicago Blackhawks', 'year': '1991', 'wins': '36'}, {'team': 'Detroit Red Wings', 'year': '1991', 'wins': '43'}, {'team': 'Edmonton Oilers', 'year': '1991', 'wins': '36'}, {'team': 'Hartford Whalers', 'year': '1991', 'wins': '26'}, {'team': 'Los Angeles Kings', 'year': '1991', 'wins': '35'}, {'team': 'Minnesota North Stars', 'year': '1991', 'wins': '32'}, {'team': 'Montreal Canadiens', 'year': '1991', 'wins': '41'}, {'team': 'New Jersey Devils', 'year': '1991', 'wins': '38'}, {'team': 'New York Islanders', 'year': '1991', 'wins': '34'}, {'team': 'New York Rangers', 'year': '1991', 'wins': '50'}, {'team': 'Philadelphia Flyers', 'year': '1991', 'wins': '32'}, {'team': 'Pittsburgh Penguins', 'year': '1991', 'wins': '39'}, {'team': 'Quebec Nordiques', 'year': '1991', 'wins': '20'}, {'team': 'San Jose Sharks', 'year': '1991', 'wins': '17'}, {'team': 'St. Louis Blues', 'year': '1991', 'wins': '36'}, {'team': 'Toronto Maple Leafs', 'year': '1991', 'wins': '30'}, {'team': 'Vancouver Canucks', 'year': '1991', 'wins': '42'}, {'team': 'Washington Capitals', 'year': '1991', 'wins': '45'}, {'team': 'Winnipeg Jets', 'year': '1991', 'wins': '33'}, {'team': 'Boston Bruins', 'year': '1992', 'wins': '51'}, {'team': 'Buffalo Sabres', 'year': '1992', 'wins': '38'}, {'team': 'Calgary Flames', 'year': '1992', 'wins': '43'}, {'team': 'Chicago Blackhawks', 'year': '1992', 'wins': '47'}, {'team': 'Detroit Red Wings', 'year': '1992', 'wins': '47'}, {'team': 'Edmonton Oilers', 'year': '1992', 'wins': '26'}, {'team': 'Hartford Whalers', 'year': '1992', 'wins': '26'}, {'team': 'Los Angeles Kings', 'year': '1992', 'wins': '39'}, {'team': 'Minnesota North Stars', 'year': '1992', 'wins': '36'}, {'team': 'Montreal Canadiens', 'year': '1992', 'wins': '48'}, {'team': 'New Jersey Devils', 'year': '1992', 'wins': '40'}, {'team': 'New York Islanders', 'year': '1992', 'wins': '40'}, {'team': 'New York Rangers', 'year': '1992', 'wins': '34'}, {'team': 'Ottawa Senators', 'year': '1992', 'wins': '10'}, {'team': 'Philadelphia Flyers', 'year': '1992', 'wins': '36'}, {'team': 'Pittsburgh Penguins', 'year': '1992', 'wins': '56'}, {'team': 'Quebec Nordiques', 'year': '1992', 'wins': '47'}, {'team': 'San Jose Sharks', 'year': '1992', 'wins': '11'}, {'team': 'St. Louis Blues', 'year': '1992', 'wins': '37'}, {'team': 'Tampa Bay Lightning', 'year': '1992', 'wins': '23'}, {'team': 'Toronto Maple Leafs', 'year': '1992', 'wins': '44'}, {'team': 'Vancouver Canucks', 'year': '1992', 'wins': '46'}, {'team': 'Washington Capitals', 'year': '1992', 'wins': '43'}, {'team': 'Winnipeg Jets', 'year': '1992', 'wins': '40'}, {'team': 'Mighty Ducks of Anaheim', 'year': '1993', 'wins': '33'}, {'team': 'Boston Bruins', 'year': '1993', 'wins': '42'}, {'team': 'Buffalo Sabres', 'year': '1993', 'wins': '43'}, {'team': 'Calgary Flames', 'year': '1993', 'wins': '42'}, {'team': 'Chicago Blackhawks', 'year': '1993', 'wins': '39'}, {'team': 'Dallas Stars', 'year': '1993', 'wins': '42'}, {'team': 'Detroit Red Wings', 'year': '1993', 'wins': '46'}, {'team': 'Edmonton Oilers', 'year': '1993', 'wins': '25'}]\n"
     ]
    }
   ],
   "source": [
    "driver = webdriver.Chrome()\n",
    "driver.get('https://www.scrapethissite.com/pages/forms/?page_num=1')\n",
    "\n",
    "hockey_teams = []\n",
    "\n",
    "# На сайте 24 страницы. Парсинг 1-й страницы занимает около двух минут.\n",
    "# Поэтому ограничимся парсингом первых трех страниц\n",
    "count = 1\n",
    "while count <= 3:\n",
    "    team_elements = driver.find_elements(By.XPATH, '//tbody/tr[@class=\"team\"]')\n",
    "\n",
    "    for team_element in team_elements:\n",
    "        team = team_element.find_element(By.XPATH, './/td[@class=\"name\"]').text\n",
    "        year = team_element.find_element(By.XPATH, './/td[@class=\"year\"]').text\n",
    "        wins = team_element.find_element(By.XPATH, './/td[@class=\"wins\"]').text\n",
    "        hockey_teams.append({'team': team, 'year': year, 'wins': wins})\n",
    "\n",
    "    next_button = driver.find_element(By.XPATH, '//ul[@class=\"pagination\"]/li/a[@aria-label=\"Next\"]')\n",
    "    if not next_button:\n",
    "        break\n",
    "    next_button.click()\n",
    "    count = count + 1\n",
    "\n",
    "driver.close()\n",
    "\n",
    "print(hockey_teams)\n"
   ]
  },
  {
   "cell_type": "markdown",
   "metadata": {},
   "source": [
    "Парсинг с помощью BeautifulSoup и Selenium."
   ]
  },
  {
   "cell_type": "code",
   "execution_count": 32,
   "metadata": {},
   "outputs": [
    {
     "name": "stdout",
     "output_type": "stream",
     "text": [
      "{'teams': ['Boston Bruins', 'Buffalo Sabres', 'Calgary Flames', 'Chicago Blackhawks', 'Detroit Red Wings', 'Edmonton Oilers', 'Hartford Whalers', 'Los Angeles Kings', 'Minnesota North Stars', 'Montreal Canadiens', 'New Jersey Devils', 'New York Islanders', 'New York Rangers', 'Philadelphia Flyers', 'Pittsburgh Penguins', 'Quebec Nordiques', 'St. Louis Blues', 'Toronto Maple Leafs', 'Vancouver Canucks', 'Washington Capitals', 'Winnipeg Jets', 'Boston Bruins', 'Buffalo Sabres', 'Calgary Flames', 'Chicago Blackhawks', 'Boston Bruins', 'Buffalo Sabres', 'Calgary Flames', 'Chicago Blackhawks', 'Detroit Red Wings', 'Edmonton Oilers', 'Hartford Whalers', 'Los Angeles Kings', 'Minnesota North Stars', 'Montreal Canadiens', 'New Jersey Devils', 'New York Islanders', 'New York Rangers', 'Philadelphia Flyers', 'Pittsburgh Penguins', 'Quebec Nordiques', 'St. Louis Blues', 'Toronto Maple Leafs', 'Vancouver Canucks', 'Washington Capitals', 'Winnipeg Jets', 'Boston Bruins', 'Buffalo Sabres', 'Calgary Flames', 'Chicago Blackhawks', 'Boston Bruins', 'Buffalo Sabres', 'Calgary Flames', 'Chicago Blackhawks', 'Detroit Red Wings', 'Edmonton Oilers', 'Hartford Whalers', 'Los Angeles Kings', 'Minnesota North Stars', 'Montreal Canadiens', 'New Jersey Devils', 'New York Islanders', 'New York Rangers', 'Philadelphia Flyers', 'Pittsburgh Penguins', 'Quebec Nordiques', 'St. Louis Blues', 'Toronto Maple Leafs', 'Vancouver Canucks', 'Washington Capitals', 'Winnipeg Jets', 'Boston Bruins', 'Buffalo Sabres', 'Calgary Flames', 'Chicago Blackhawks'], 'year': ['1990', '1990', '1990', '1990', '1990', '1990', '1990', '1990', '1990', '1990', '1990', '1990', '1990', '1990', '1990', '1990', '1990', '1990', '1990', '1990', '1990', '1991', '1991', '1991', '1991', '1990', '1990', '1990', '1990', '1990', '1990', '1990', '1990', '1990', '1990', '1990', '1990', '1990', '1990', '1990', '1990', '1990', '1990', '1990', '1990', '1990', '1991', '1991', '1991', '1991', '1990', '1990', '1990', '1990', '1990', '1990', '1990', '1990', '1990', '1990', '1990', '1990', '1990', '1990', '1990', '1990', '1990', '1990', '1990', '1990', '1990', '1991', '1991', '1991', '1991'], 'wins': ['44', '31', '46', '49', '34', '37', '31', '46', '27', '39', '32', '25', '36', '33', '41', '16', '47', '23', '28', '37', '26', '36', '31', '31', '36', '44', '31', '46', '49', '34', '37', '31', '46', '27', '39', '32', '25', '36', '33', '41', '16', '47', '23', '28', '37', '26', '36', '31', '31', '36', '44', '31', '46', '49', '34', '37', '31', '46', '27', '39', '32', '25', '36', '33', '41', '16', '47', '23', '28', '37', '26', '36', '31', '31', '36']}\n"
     ]
    }
   ],
   "source": [
    "driver = webdriver.Chrome()\n",
    "driver.get('https://www.scrapethissite.com/pages/forms/?page_num=1')\n",
    "\n",
    "# Для BeautifulSoup\n",
    "website = 'https://www.scrapethissite.com/pages/forms/?page_num=1'\n",
    "page = requests.get(website)\n",
    "soup = BeautifulSoup(page.content, 'html.parser')\n",
    "\n",
    "# Подготовка списков\n",
    "teams = []\n",
    "year = []\n",
    "wins = []\n",
    "\n",
    "# Пустой словарь для записи результатов\n",
    "output = {}\n",
    "\n",
    "count = 1\n",
    "while count <= 3:\n",
    "    table = soup.find('table', ('class', 'table'))\n",
    "    \n",
    "    # Цикл для парсинга названий команд\n",
    "    for team_name in table.find_all('td', class_='name'):\n",
    "        team = team_name.text.strip()\n",
    "        teams.append(team)\n",
    "    \n",
    "    # Цикл для парсинга года\n",
    "    for dates in table.find_all('td', class_='year'):\n",
    "        year_date = dates.text.strip()\n",
    "        year.append(year_date)\n",
    "\n",
    "    # Цикл для парсинга количества побед\n",
    "    for victories in table.find_all('td', class_='wins'):\n",
    "        victory = victories.text.strip()\n",
    "        wins.append(victory)\n",
    "        \n",
    "    # Переход на следующую страницу с помощью Selenium\n",
    "    next_button = driver.find_element(By.XPATH, '//ul[@class=\"pagination\"]/li/a[@aria-label=\"Next\"]')\n",
    "    if not next_button:\n",
    "        break\n",
    "    next_button.click()\n",
    "    count = count + 1\n",
    "    output = {'teams': teams, 'year': year, 'wins': wins}\n",
    "\n",
    "driver.close()\n",
    "\n",
    "print(output)\n"
   ]
  },
  {
   "cell_type": "markdown",
   "metadata": {},
   "source": [
    "Оформим результат в виде таблицы."
   ]
  },
  {
   "cell_type": "code",
   "execution_count": 33,
   "metadata": {},
   "outputs": [
    {
     "data": {
      "text/html": [
       "<div>\n",
       "<style scoped>\n",
       "    .dataframe tbody tr th:only-of-type {\n",
       "        vertical-align: middle;\n",
       "    }\n",
       "\n",
       "    .dataframe tbody tr th {\n",
       "        vertical-align: top;\n",
       "    }\n",
       "\n",
       "    .dataframe thead th {\n",
       "        text-align: right;\n",
       "    }\n",
       "</style>\n",
       "<table border=\"1\" class=\"dataframe\">\n",
       "  <thead>\n",
       "    <tr style=\"text-align: right;\">\n",
       "      <th></th>\n",
       "      <th>teams</th>\n",
       "      <th>year</th>\n",
       "      <th>wins</th>\n",
       "    </tr>\n",
       "  </thead>\n",
       "  <tbody>\n",
       "    <tr>\n",
       "      <th>0</th>\n",
       "      <td>Boston Bruins</td>\n",
       "      <td>1990</td>\n",
       "      <td>44</td>\n",
       "    </tr>\n",
       "    <tr>\n",
       "      <th>1</th>\n",
       "      <td>Buffalo Sabres</td>\n",
       "      <td>1990</td>\n",
       "      <td>31</td>\n",
       "    </tr>\n",
       "    <tr>\n",
       "      <th>2</th>\n",
       "      <td>Calgary Flames</td>\n",
       "      <td>1990</td>\n",
       "      <td>46</td>\n",
       "    </tr>\n",
       "    <tr>\n",
       "      <th>3</th>\n",
       "      <td>Chicago Blackhawks</td>\n",
       "      <td>1990</td>\n",
       "      <td>49</td>\n",
       "    </tr>\n",
       "    <tr>\n",
       "      <th>4</th>\n",
       "      <td>Detroit Red Wings</td>\n",
       "      <td>1990</td>\n",
       "      <td>34</td>\n",
       "    </tr>\n",
       "    <tr>\n",
       "      <th>...</th>\n",
       "      <td>...</td>\n",
       "      <td>...</td>\n",
       "      <td>...</td>\n",
       "    </tr>\n",
       "    <tr>\n",
       "      <th>70</th>\n",
       "      <td>Winnipeg Jets</td>\n",
       "      <td>1990</td>\n",
       "      <td>26</td>\n",
       "    </tr>\n",
       "    <tr>\n",
       "      <th>71</th>\n",
       "      <td>Boston Bruins</td>\n",
       "      <td>1991</td>\n",
       "      <td>36</td>\n",
       "    </tr>\n",
       "    <tr>\n",
       "      <th>72</th>\n",
       "      <td>Buffalo Sabres</td>\n",
       "      <td>1991</td>\n",
       "      <td>31</td>\n",
       "    </tr>\n",
       "    <tr>\n",
       "      <th>73</th>\n",
       "      <td>Calgary Flames</td>\n",
       "      <td>1991</td>\n",
       "      <td>31</td>\n",
       "    </tr>\n",
       "    <tr>\n",
       "      <th>74</th>\n",
       "      <td>Chicago Blackhawks</td>\n",
       "      <td>1991</td>\n",
       "      <td>36</td>\n",
       "    </tr>\n",
       "  </tbody>\n",
       "</table>\n",
       "<p>75 rows × 3 columns</p>\n",
       "</div>"
      ],
      "text/plain": [
       "                 teams  year wins\n",
       "0        Boston Bruins  1990   44\n",
       "1       Buffalo Sabres  1990   31\n",
       "2       Calgary Flames  1990   46\n",
       "3   Chicago Blackhawks  1990   49\n",
       "4    Detroit Red Wings  1990   34\n",
       "..                 ...   ...  ...\n",
       "70       Winnipeg Jets  1990   26\n",
       "71       Boston Bruins  1991   36\n",
       "72      Buffalo Sabres  1991   31\n",
       "73      Calgary Flames  1991   31\n",
       "74  Chicago Blackhawks  1991   36\n",
       "\n",
       "[75 rows x 3 columns]"
      ]
     },
     "execution_count": 33,
     "metadata": {},
     "output_type": "execute_result"
    }
   ],
   "source": [
    "df = pd.DataFrame(output)\n",
    "df"
   ]
  },
  {
   "cell_type": "markdown",
   "metadata": {},
   "source": [
    "Сохранение данных в Excel."
   ]
  },
  {
   "cell_type": "code",
   "execution_count": 35,
   "metadata": {},
   "outputs": [],
   "source": [
    "df.to_excel(r'hockey_teams.xlsx')"
   ]
  }
 ],
 "metadata": {
  "kernelspec": {
   "display_name": "Python 3",
   "language": "python",
   "name": "python3"
  },
  "language_info": {
   "codemirror_mode": {
    "name": "ipython",
    "version": 3
   },
   "file_extension": ".py",
   "mimetype": "text/x-python",
   "name": "python",
   "nbconvert_exporter": "python",
   "pygments_lexer": "ipython3",
   "version": "3.10.11"
  }
 },
 "nbformat": 4,
 "nbformat_minor": 2
}
